{
  "nbformat": 4,
  "nbformat_minor": 0,
  "metadata": {
    "colab": {
      "name": "cesar.ipynb",
      "provenance": [],
      "authorship_tag": "ABX9TyPzPMW9wnDuNgAQurLQ+gAj",
      "include_colab_link": true
    },
    "kernelspec": {
      "name": "python3",
      "display_name": "Python 3"
    }
  },
  "cells": [
    {
      "cell_type": "markdown",
      "metadata": {
        "id": "view-in-github",
        "colab_type": "text"
      },
      "source": [
        "<a href=\"https://colab.research.google.com/github/proektik/shifr/blob/main/cesar.ipynb\" target=\"_parent\"><img src=\"https://colab.research.google.com/assets/colab-badge.svg\" alt=\"Open In Colab\"/></a>"
      ]
    },
    {
      "cell_type": "code",
      "metadata": {
        "colab": {
          "base_uri": "https://localhost:8080/"
        },
        "id": "4_TReWc90yTw",
        "outputId": "4c69916e-0e7a-4777-fa51-b2862d777cdd"
      },
      "source": [
        "print('Введите строку: ')\r\n",
        "s = input()\r\n",
        "ss = ''\r\n",
        "print('Введите сдвиг(от 0 до 32):')\r\n",
        "k = input()\r\n",
        "#print(len(s))\r\n",
        "for i in range (len(s)):\r\n",
        "  if (s[i] >= 'а' and s[i] <= 'я'):\r\n",
        "    if str(chr(ord(s[i]) + int(k))) > 'я':\r\n",
        "      ss += str(chr(ord(s[i]) + int(k) - ord('я') + ord('а') - 1))\r\n",
        "    else:\r\n",
        "      ss += str(chr(ord(s[i]) + int(k)))\r\n",
        "  elif (s[i] >= 'А' and s[i] <= 'Я'):\r\n",
        "    if str(chr(ord(s[i]) + int(k))) > 'Я':\r\n",
        "      ss += str(chr(ord(s[i]) + int(k) - ord('Я') + ord('А') - 1))\r\n",
        "    else:\r\n",
        "      ss += str(chr(ord(s[i]) + int(k)))\r\n",
        "  else:\r\n",
        "    ss += s[i]\r\n",
        "print(ss)"
      ],
      "execution_count": 80,
      "outputs": [
        {
          "output_type": "stream",
          "text": [
            "Введите строку: \n",
            "Я полностью уверен, что когда-то это работало!\n",
            "Введите сдвиг(от 0 до 32):\n",
            "3\n",
            "В тсорсфхяб цеиуир, ъхс нсжзг-хс ахс угдсхгос!\n"
          ],
          "name": "stdout"
        }
      ]
    }
  ]
}